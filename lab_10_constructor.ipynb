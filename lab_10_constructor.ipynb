{
 "cells": [
  {
   "cell_type": "code",
   "execution_count": 1,
   "id": "66748642",
   "metadata": {},
   "outputs": [],
   "source": [
    "\n",
    "class Animal:\n",
    "    def __init__(self, animal_type):\n",
    "        self.animal_type = animal_type\n",
    "        print( self.animal_type)\n"
   ]
  },
  {
   "cell_type": "code",
   "execution_count": 2,
   "id": "7ab5e8cb",
   "metadata": {},
   "outputs": [
    {
     "name": "stdout",
     "output_type": "stream",
     "text": [
      "cat\n",
      "puma\n",
      "dog\n"
     ]
    }
   ],
   "source": [
    "\n",
    "cow = Animal(\"cat\")\n",
    "bird = Animal(\"puma\")\n",
    "bee = Animal(\"dog\")\n"
   ]
  }
 ],
 "metadata": {
  "kernelspec": {
   "display_name": "Python 3",
   "language": "python",
   "name": "python3"
  },
  "language_info": {
   "codemirror_mode": {
    "name": "ipython",
    "version": 3
   },
   "file_extension": ".py",
   "mimetype": "text/x-python",
   "name": "python",
   "nbconvert_exporter": "python",
   "pygments_lexer": "ipython3",
   "version": "3.12.1"
  }
 },
 "nbformat": 4,
 "nbformat_minor": 5
}
