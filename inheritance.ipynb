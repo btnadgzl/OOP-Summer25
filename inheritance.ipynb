{
  "metadata": {
    "kernelspec": {
      "name": "python",
      "display_name": "Python (Pyodide)",
      "language": "python"
    },
    "language_info": {
      "codemirror_mode": {
        "name": "python",
        "version": 3
      },
      "file_extension": ".py",
      "mimetype": "text/x-python",
      "name": "python",
      "nbconvert_exporter": "python",
      "pygments_lexer": "ipython3",
      "version": "3.8"
    }
  },
  "nbformat_minor": 5,
  "nbformat": 4,
  "cells": [
    {
      "id": "af2f4904-a169-4ad4-9467-8f939a40c50f",
      "cell_type": "markdown",
      "source": "## Inheritance\nA way to create a new class (child) that inherits attributes and methods from another class (parent).",
      "metadata": {}
    },
    {
      "id": "db67f4fe-8549-45e8-b51a-43442becf48d",
      "cell_type": "markdown",
      "source": "## A parent class",
      "metadata": {}
    },
    {
      "id": "978b59f4-99d5-442b-89eb-58134d368e26",
      "cell_type": "code",
      "source": "class Animal: \n    def give_sound(self, sound):\n        print(sound)",
      "metadata": {
        "trusted": true
      },
      "outputs": [],
      "execution_count": 1
    },
    {
      "id": "06dc2c7c-8d2c-454e-badb-7ea3c715dff0",
      "cell_type": "code",
      "source": "my_animal = Animal()\nmy_animal.give_sound('woof')",
      "metadata": {
        "trusted": true
      },
      "outputs": [
        {
          "name": "stdout",
          "output_type": "stream",
          "text": "woof\n"
        }
      ],
      "execution_count": 2
    },
    {
      "id": "92f34870-d62d-46c1-9137-638595a911ec",
      "cell_type": "markdown",
      "source": "## Child Class",
      "metadata": {}
    },
    {
      "id": "19a66d3a-10a8-4c5a-b477-b61221cb68a7",
      "cell_type": "code",
      "source": "class Dog(Animal):\n    def bark(self):\n        self.give_sound('woof')\n\n\n    ",
      "metadata": {
        "trusted": true
      },
      "outputs": [],
      "execution_count": 3
    },
    {
      "id": "d1d3d5ca-3779-441a-bd71-1e41141da328",
      "cell_type": "code",
      "source": "my_doggy = Dog()\nmy_doggy.bark()",
      "metadata": {
        "trusted": true
      },
      "outputs": [
        {
          "name": "stdout",
          "output_type": "stream",
          "text": "woof\n"
        }
      ],
      "execution_count": 4
    },
    {
      "id": "6fda6a63-21d7-439f-891c-33cc14c1b8e3",
      "cell_type": "markdown",
      "source": "## A parent class",
      "metadata": {}
    },
    {
      "id": "514fae99-4833-4ad8-bc7e-d8accd960cbd",
      "cell_type": "markdown",
      "source": "## NOTE: something more general is parent something more specific is a child",
      "metadata": {}
    },
    {
      "id": "8e73d82d-2d23-4d3e-983c-ba9c4bb73edc",
      "cell_type": "code",
      "source": "class Person:\n    def __init__(self, first_name, last_name):\n        self.first_name = first_name\n        self.last_name = last_name",
      "metadata": {
        "trusted": true
      },
      "outputs": [],
      "execution_count": 5
    },
    {
      "id": "549d7867-952d-4be4-87fd-76f79eec7d29",
      "cell_type": "markdown",
      "source": "## A child class ",
      "metadata": {}
    },
    {
      "id": "f7454bf6-cb87-4c4f-b8cc-69eb3e7f71f0",
      "cell_type": "code",
      "source": "class Student:\n    def __init__(self, first_name, last_name, index_number):\n        self.first_name = first_name\n        self.last_name = last_name\n        self.index_number = index_number\n\n    def display_info(self):\n        print(f\"Name: {self.first_name} {self.last_name}, index: {self.index_number}\")\n\nstudent1 = Student('Batın', 'Adıgüzel', '35134')\n\nstudent1.display_info()",
      "metadata": {
        "trusted": true
      },
      "outputs": [
        {
          "name": "stdout",
          "output_type": "stream",
          "text": "Name: Batın Adıgüzel, index: 35134\n"
        }
      ],
      "execution_count": 13
    },
    {
      "id": "0815cf28-f14a-4d23-a4e8-29bbd4a0000c",
      "cell_type": "markdown",
      "source": "## Student class with inheritance (as child class)",
      "metadata": {}
    },
    {
      "id": "bfc61152-f78c-4bca-8667-e3ace7aedb2f",
      "cell_type": "code",
      "source": "class Student:\n    def __init__(self, first_name, last_name, index_number):\n        super\n        self.index_number = index_number\n\n    def display_info(self):\n        print(f\"Name: {self.first_name} {self.last_name}, index: {self.index_number}\")\n\nstudent1 = Student('Batın', 'Adıgüzel', '35134')\n\nstudent1.display_info()",
      "metadata": {
        "trusted": true
      },
      "outputs": [
        {
          "ename": "<class 'AttributeError'>",
          "evalue": "'Student' object has no attribute 'first_name'",
          "traceback": [
            "\u001b[0;31m---------------------------------------------------------------------------\u001b[0m",
            "\u001b[0;31mAttributeError\u001b[0m                            Traceback (most recent call last)",
            "Cell \u001b[0;32mIn[15], line 10\u001b[0m\n\u001b[1;32m      6\u001b[0m         \u001b[38;5;28mprint\u001b[39m(\u001b[38;5;124mf\u001b[39m\u001b[38;5;124m\"\u001b[39m\u001b[38;5;124mName: \u001b[39m\u001b[38;5;132;01m{\u001b[39;00m\u001b[38;5;28mself\u001b[39m\u001b[38;5;241m.\u001b[39mfirst_name\u001b[38;5;132;01m}\u001b[39;00m\u001b[38;5;124m \u001b[39m\u001b[38;5;132;01m{\u001b[39;00m\u001b[38;5;28mself\u001b[39m\u001b[38;5;241m.\u001b[39mlast_name\u001b[38;5;132;01m}\u001b[39;00m\u001b[38;5;124m, index: \u001b[39m\u001b[38;5;132;01m{\u001b[39;00m\u001b[38;5;28mself\u001b[39m\u001b[38;5;241m.\u001b[39mindex_number\u001b[38;5;132;01m}\u001b[39;00m\u001b[38;5;124m\"\u001b[39m)\n\u001b[1;32m      8\u001b[0m student1 \u001b[38;5;241m=\u001b[39m Student(\u001b[38;5;124m'\u001b[39m\u001b[38;5;124mBatın\u001b[39m\u001b[38;5;124m'\u001b[39m, \u001b[38;5;124m'\u001b[39m\u001b[38;5;124mAdıgüzel\u001b[39m\u001b[38;5;124m'\u001b[39m, \u001b[38;5;124m'\u001b[39m\u001b[38;5;124m35134\u001b[39m\u001b[38;5;124m'\u001b[39m)\n\u001b[0;32m---> 10\u001b[0m \u001b[43mstudent1\u001b[49m\u001b[38;5;241;43m.\u001b[39;49m\u001b[43mdisplay_info\u001b[49m\u001b[43m(\u001b[49m\u001b[43m)\u001b[49m\n",
            "Cell \u001b[0;32mIn[15], line 6\u001b[0m, in \u001b[0;36mStudent.display_info\u001b[0;34m(self)\u001b[0m\n\u001b[1;32m      5\u001b[0m \u001b[38;5;28;01mdef\u001b[39;00m \u001b[38;5;21mdisplay_info\u001b[39m(\u001b[38;5;28mself\u001b[39m):\n\u001b[0;32m----> 6\u001b[0m     \u001b[38;5;28mprint\u001b[39m(\u001b[38;5;124mf\u001b[39m\u001b[38;5;124m\"\u001b[39m\u001b[38;5;124mName: \u001b[39m\u001b[38;5;132;01m{\u001b[39;00m\u001b[38;5;28;43mself\u001b[39;49m\u001b[38;5;241;43m.\u001b[39;49m\u001b[43mfirst_name\u001b[49m\u001b[38;5;132;01m}\u001b[39;00m\u001b[38;5;124m \u001b[39m\u001b[38;5;132;01m{\u001b[39;00m\u001b[38;5;28mself\u001b[39m\u001b[38;5;241m.\u001b[39mlast_name\u001b[38;5;132;01m}\u001b[39;00m\u001b[38;5;124m, index: \u001b[39m\u001b[38;5;132;01m{\u001b[39;00m\u001b[38;5;28mself\u001b[39m\u001b[38;5;241m.\u001b[39mindex_number\u001b[38;5;132;01m}\u001b[39;00m\u001b[38;5;124m\"\u001b[39m)\n",
            "\u001b[0;31mAttributeError\u001b[0m: 'Student' object has no attribute 'first_name'"
          ],
          "output_type": "error"
        }
      ],
      "execution_count": 15
    },
    {
      "id": "25fc875e-6aed-4d96-b756-0f6d97cc80ad",
      "cell_type": "code",
      "source": "",
      "metadata": {
        "trusted": true
      },
      "outputs": [],
      "execution_count": null
    }
  ]
}