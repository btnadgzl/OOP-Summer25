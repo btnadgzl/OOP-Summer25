{
 "cells": [
  {
   "cell_type": "code",
   "execution_count": 6,
   "id": "66748642",
   "metadata": {},
   "outputs": [],
   "source": [
    "class Animal:\n",
    "    def __init__(self):\n",
    "        print(\"An animal has been created!\")\n",
    "\n"
   ]
  },
  {
   "cell_type": "code",
   "execution_count": 7,
   "id": "7ab5e8cb",
   "metadata": {},
   "outputs": [
    {
     "name": "stdout",
     "output_type": "stream",
     "text": [
      "An animal has been created!\n",
      "An animal has been created!\n",
      "An animal has been created!\n"
     ]
    }
   ],
   "source": [
    "a1 = Animal()\n",
    "a2 = Animal()\n",
    "a3 = Animal()\n"
   ]
  },
  {
   "cell_type": "code",
   "execution_count": 8,
   "id": "ce3346f1",
   "metadata": {},
   "outputs": [],
   "source": [
    "# Define the Car class\n",
    "class Car:\n",
    "    def __init__(self, brand, model):\n",
    "        self.brand = brand\n",
    "        self.model = model\n",
    "        print(f\"A car has been created: {self.brand} {self.model}\")\n"
   ]
  },
  {
   "cell_type": "code",
   "execution_count": 9,
   "id": "9e445c0d",
   "metadata": {},
   "outputs": [
    {
     "name": "stdout",
     "output_type": "stream",
     "text": [
      "A car has been created: Honda Civic\n",
      "A car has been created: Dodge Challanger\n",
      "A car has been created: Bugatti Veyron 16.4\n"
     ]
    }
   ],
   "source": [
    "# Create 3 Car objects\n",
    "car1 = Car(\"Honda\", \"Civic\")\n",
    "car2 = Car(\"Dodge\", \"Challanger\")\n",
    "car3 = Car(\"Bugatti\", \"Veyron 16.4\")\n"
   ]
  },
  {
   "cell_type": "markdown",
   "id": "7dfd0c73",
   "metadata": {},
   "source": [
    "## Task for extra point - complex constructor\n"
   ]
  },
  {
   "cell_type": "code",
   "execution_count": 10,
   "id": "db463ab3",
   "metadata": {},
   "outputs": [
    {
     "name": "stdout",
     "output_type": "stream",
     "text": [
      "House created in Warsaw - 1 floor(s)\n",
      "House created in kocaeli - 3 floor(s)\n"
     ]
    }
   ],
   "source": [
    "class House:\n",
    "    def __init__(self, location, floors, furnitures):\n",
    "        self.location = location\n",
    "        self.floors = floors\n",
    "        self.furnitures = furnitures\n",
    "        print(\"House created in\", self.location['city'], \"-\", self.floors, \"floor(s)\")\n",
    "\n",
    "house1 = House(\n",
    "    location={'country': 'Poland', 'city': 'Warsaw', 'street': 'Slowicza'},\n",
    "    floors=1,\n",
    "    furnitures=['table', 'sofa', 'bed']\n",
    ")\n",
    "\n",
    "house2 = House(\n",
    "    location={'country': 'turkey', 'city': 'kocaeli', 'street': 'Mimarsinan'},\n",
    "    floors=3,\n",
    "    furnitures=['chair', 'bookshelf', 'lamp']\n",
    ")\n"
   ]
  }
 ],
 "metadata": {
  "kernelspec": {
   "display_name": "Python 3",
   "language": "python",
   "name": "python3"
  },
  "language_info": {
   "codemirror_mode": {
    "name": "ipython",
    "version": 3
   },
   "file_extension": ".py",
   "mimetype": "text/x-python",
   "name": "python",
   "nbconvert_exporter": "python",
   "pygments_lexer": "ipython3",
   "version": "3.12.1"
  }
 },
 "nbformat": 4,
 "nbformat_minor": 5
}
