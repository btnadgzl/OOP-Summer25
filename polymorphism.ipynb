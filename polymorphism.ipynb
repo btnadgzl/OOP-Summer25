{
 "cells": [
  {
   "cell_type": "markdown",
   "id": "d06f7362",
   "metadata": {},
   "source": [
    "## Polymorphism (Çok Biçimlilik) Example\n",
    "\n",
    "Polymorphism allows different classes to define methods that are called through the same interface.\n",
    "In this example, each class has its own version of the `make_sound` method."
   ]
  },
  {
   "cell_type": "code",
   "execution_count": null,
   "id": "6d116938",
   "metadata": {},
   "outputs": [],
   "source": [
    "class Animal:\n",
    "    def make_sound(self):\n",
    "        print(\"Some generic animal sound\")"
   ]
  },
  {
   "cell_type": "code",
   "execution_count": null,
   "id": "cb4b6de7",
   "metadata": {},
   "outputs": [],
   "source": [
    "class Dog(Animal):\n",
    "    def make_sound(self):\n",
    "        print(\"Woof!\")"
   ]
  },
  {
   "cell_type": "code",
   "execution_count": null,
   "id": "bc254cb9",
   "metadata": {},
   "outputs": [],
   "source": [
    "class Cat(Animal):\n",
    "    def make_sound(self):\n",
    "        print(\"Meow!\")"
   ]
  },
  {
   "cell_type": "code",
   "execution_count": null,
   "id": "5d697e97",
   "metadata": {},
   "outputs": [],
   "source": [
    "# Polymorphism in action\n",
    "animals = [Dog(), Cat(), Animal()]\n",
    "\n",
    "for animal in animals:\n",
    "    animal.make_sound()"
   ]
  },
  {
   "cell_type": "markdown",
   "id": "44a29a9a",
   "metadata": {},
   "source": [
    "### Output Explanation\n",
    "Each object in the `animals` list calls its own version of the `make_sound()` method.\n",
    "This demonstrates polymorphism in Python."
   ]
  }
 ],
 "metadata": {},
 "nbformat": 4,
 "nbformat_minor": 5
}
