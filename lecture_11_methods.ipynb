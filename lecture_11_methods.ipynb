{
 "cells": [
  {
   "cell_type": "markdown",
   "id": "c8b17da9",
   "metadata": {},
   "source": [
    "## What are functions\n",
    "A function is a block of code which only runs when it is called.\n",
    "\n",
    "You can pass data, known as parameters, into a function.\n",
    "\n",
    "A function can return data as a result."
   ]
  },
  {
   "cell_type": "markdown",
   "id": "6d8b0e33",
   "metadata": {},
   "source": [
    "## Function without arguments"
   ]
  },
  {
   "cell_type": "code",
   "execution_count": 48,
   "id": "40b33a73",
   "metadata": {},
   "outputs": [],
   "source": [
    "def say_hello():\n",
    "    print('Hello')"
   ]
  },
  {
   "cell_type": "markdown",
   "id": "050bea14",
   "metadata": {},
   "source": [
    "## How to call the function?"
   ]
  },
  {
   "cell_type": "code",
   "execution_count": 49,
   "id": "e5643803",
   "metadata": {},
   "outputs": [
    {
     "name": "stdout",
     "output_type": "stream",
     "text": [
      "Hello\n"
     ]
    }
   ],
   "source": [
    "say_hello()"
   ]
  },
  {
   "cell_type": "markdown",
   "id": "21887e6a",
   "metadata": {},
   "source": [
    "## Function with arguments"
   ]
  },
  {
   "cell_type": "code",
   "execution_count": 50,
   "id": "80cad503",
   "metadata": {},
   "outputs": [],
   "source": [
    "def say_hello(name):\n",
    "    print('Hello', name)"
   ]
  },
  {
   "cell_type": "code",
   "execution_count": 51,
   "id": "4d2c7b09",
   "metadata": {},
   "outputs": [
    {
     "name": "stdout",
     "output_type": "stream",
     "text": [
      "Hello Batın\n"
     ]
    }
   ],
   "source": [
    "say_hello('Batın')"
   ]
  },
  {
   "cell_type": "markdown",
   "id": "47d297ad",
   "metadata": {},
   "source": [
    "## What are methods?\n",
    "Merhods are functions that belong to the object"
   ]
  },
  {
   "cell_type": "code",
   "execution_count": 52,
   "id": "f52db7b3",
   "metadata": {},
   "outputs": [],
   "source": [
    "class Mystar:\n",
    "    def say_hello(self):\n",
    "        print('Hello')"
   ]
  },
  {
   "cell_type": "markdown",
   "id": "0c348f43",
   "metadata": {},
   "source": [
    "## How to call it ?\n",
    "We need to create an object\n",
    "we need to use method name on that object"
   ]
  },
  {
   "cell_type": "code",
   "execution_count": 53,
   "id": "e9a2ab65",
   "metadata": {},
   "outputs": [
    {
     "name": "stdout",
     "output_type": "stream",
     "text": [
      "Hello\n"
     ]
    }
   ],
   "source": [
    "my_star1 = Mystar()\n",
    "my_star1.say_hello()"
   ]
  },
  {
   "cell_type": "markdown",
   "id": "02304609",
   "metadata": {},
   "source": [
    "### Method with arguments\n",
    "It should self + arguments"
   ]
  },
  {
   "cell_type": "code",
   "execution_count": 54,
   "id": "2d0d4b2e",
   "metadata": {},
   "outputs": [],
   "source": [
    "class Mystar:\n",
    "    def say_hello(self, name):\n",
    "        print('Hello', name)"
   ]
  },
  {
   "cell_type": "code",
   "execution_count": 55,
   "id": "069b781b",
   "metadata": {},
   "outputs": [
    {
     "name": "stdout",
     "output_type": "stream",
     "text": [
      "Hello Batın\n"
     ]
    }
   ],
   "source": [
    "my_star2 = Mystar()\n",
    "my_star2.say_hello('Batın')"
   ]
  }
 ],
 "metadata": {
  "kernelspec": {
   "display_name": "Python 3",
   "language": "python",
   "name": "python3"
  },
  "language_info": {
   "codemirror_mode": {
    "name": "ipython",
    "version": 3
   },
   "file_extension": ".py",
   "mimetype": "text/x-python",
   "name": "python",
   "nbconvert_exporter": "python",
   "pygments_lexer": "ipython3",
   "version": "3.12.1"
  }
 },
 "nbformat": 4,
 "nbformat_minor": 5
}
