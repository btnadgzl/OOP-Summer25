{
 "cells": [
  {
   "cell_type": "markdown",
   "id": "b66be6b5",
   "metadata": {},
   "source": [
    "## Simplest class ever"
   ]
  },
  {
   "cell_type": "code",
   "execution_count": null,
   "id": "75942d92",
   "metadata": {},
   "outputs": [],
   "source": [
    "# we want to have an empty class\n",
    "# but it is not possible to leave empty :(\n",
    "class MyStar:\n",
    "    pass  # but when we put pass then it behaves like an empty class"
   ]
  },
  {
   "cell_type": "markdown",
   "id": "fa525e85",
   "metadata": {},
   "source": [
    "## Simplest object ever (using pass)"
   ]
  },
  {
   "cell_type": "code",
   "execution_count": null,
   "id": "dbad31f5",
   "metadata": {},
   "outputs": [
    {
     "name": "stdout",
     "output_type": "stream",
     "text": [
      "<__main__.MyStar object at 0x7fa1d83a4200>\n"
     ]
    }
   ],
   "source": [
    "obj = MyStar()\n",
    "print(obj)"
   ]
  },
  {
   "cell_type": "markdown",
   "id": "176b8652",
   "metadata": {},
   "source": [
    "## Class with one method"
   ]
  },
  {
   "cell_type": "code",
   "execution_count": null,
   "id": "36037e9d",
   "metadata": {},
   "outputs": [],
   "source": [
    "class Greeter:\n",
    "    def greet(self):\n",
    "        print(\"Hello2, world!\")"
   ]
  },
  {
   "cell_type": "markdown",
   "id": "8cbdf003",
   "metadata": {},
   "source": [
    "## The usage of that method"
   ]
  },
  {
   "cell_type": "code",
   "execution_count": null,
   "id": "18f8a515",
   "metadata": {},
   "outputs": [
    {
     "name": "stdout",
     "output_type": "stream",
     "text": [
      "Hello2, world!\n"
     ]
    }
   ],
   "source": [
    "g = Greeter()\n",
    "g.greet()"
   ]
  }
 ],
 "metadata": {
  "kernelspec": {
   "display_name": "Python 3",
   "language": "python",
   "name": "python3"
  },
  "language_info": {
   "codemirror_mode": {
    "name": "ipython",
    "version": 3
   },
   "file_extension": ".py",
   "mimetype": "text/x-python",
   "name": "python",
   "nbconvert_exporter": "python",
   "pygments_lexer": "ipython3",
   "version": "3.12.1"
  }
 },
 "nbformat": 4,
 "nbformat_minor": 5
}
