{
 "cells": [
  {
   "cell_type": "markdown",
   "id": "84002cb6",
   "metadata": {},
   "source": [
    "# Simplest Car class ever"
   ]
  },
  {
   "cell_type": "code",
   "execution_count": null,
   "id": "8fd989c2",
   "metadata": {},
   "outputs": [],
   "source": [
    "class Car:\n",
    "    pass"
   ]
  },
  {
   "cell_type": "markdown",
   "id": "b9e6b0ea",
   "metadata": {},
   "source": [
    "- it doesn't have any attributes\n",
    "- it doesn't have any methods\n",
    "- there is no constructor"
   ]
  },
  {
   "cell_type": "markdown",
   "id": "ea903cb8",
   "metadata": {},
   "source": [
    "## What can we do with such a class?"
   ]
  },
  {
   "cell_type": "markdown",
   "id": "644f1d32",
   "metadata": {},
   "source": [
    "### 1. We can create an object even if this is empty"
   ]
  },
  {
   "cell_type": "code",
   "execution_count": null,
   "id": "ecd29bae",
   "metadata": {},
   "outputs": [],
   "source": [
    "Car()  # that creates an object"
   ]
  },
  {
   "cell_type": "markdown",
   "id": "94a5ba78",
   "metadata": {},
   "source": [
    "### 2. We can create and assign the object to a variable"
   ]
  },
  {
   "cell_type": "code",
   "execution_count": null,
   "id": "1267b179",
   "metadata": {},
   "outputs": [],
   "source": [
    "my_car_1 = Car()"
   ]
  },
  {
   "cell_type": "markdown",
   "id": "5550b1f7",
   "metadata": {},
   "source": [
    "### 3. We can print the object with its address in memory"
   ]
  },
  {
   "cell_type": "code",
   "execution_count": null,
   "id": "cdc183e8",
   "metadata": {},
   "outputs": [],
   "source": [
    "print(my_car_1)"
   ]
  },
  {
   "cell_type": "markdown",
   "id": "bce12bec",
   "metadata": {},
   "source": [
    "### 4. We can create multiple objects of that class"
   ]
  },
  {
   "cell_type": "code",
   "execution_count": null,
   "id": "7758473b",
   "metadata": {},
   "outputs": [],
   "source": [
    "my_car_2 = Car()\n",
    "my_car_3 = Car()\n",
    "my_car_4 = Car()"
   ]
  },
  {
   "cell_type": "markdown",
   "id": "3ce4abf6",
   "metadata": {},
   "source": [
    "### 5. We can check the addresses on those objects in the memory"
   ]
  },
  {
   "cell_type": "code",
   "execution_count": null,
   "id": "ddfd655f",
   "metadata": {},
   "outputs": [],
   "source": [
    "print(my_car_1)\n",
    "print(my_car_2)\n",
    "print(my_car_3)\n",
    "print(my_car_4)"
   ]
  },
  {
   "cell_type": "markdown",
   "id": "83f13d12",
   "metadata": {},
   "source": [
    "### 6. We can check the type of the object"
   ]
  },
  {
   "cell_type": "code",
   "execution_count": null,
   "id": "45335006",
   "metadata": {},
   "outputs": [],
   "source": [
    "print(type(my_car_1))\n",
    "print(type(my_car_2))\n",
    "print(type(my_car_3))\n",
    "print(type(my_car_4))"
   ]
  }
 ],
 "metadata": {},
 "nbformat": 4,
 "nbformat_minor": 5
}
